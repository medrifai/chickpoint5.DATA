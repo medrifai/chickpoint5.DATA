{
 "cells": [
  {
   "cell_type": "code",
   "execution_count": 2,
   "id": "74b4b113",
   "metadata": {},
   "outputs": [
    {
     "name": "stdout",
     "output_type": "stream",
     "text": [
      "56\n"
     ]
    }
   ],
   "source": [
    "L=[4,7,2]\n",
    "C = L[0] * L[1] * L[2]\n",
    "print(C)"
   ]
  },
  {
   "cell_type": "code",
   "execution_count": 9,
   "id": "b01a2cae",
   "metadata": {},
   "outputs": [
    {
     "name": "stdout",
     "output_type": "stream",
     "text": [
      "[(2, 1), (1, 2), (2, 3), (4, 4), (2, 5)]\n"
     ]
    }
   ],
   "source": [
    "L = [(2,5),(1,2),(4,4),(2,3),(2,1)]\n",
    "def last (n) :\n",
    "    return n[-1]\n",
    "def sort (L) :\n",
    "    return sorted (L , key = last )\n",
    "print(sort(L))"
   ]
  },
  {
   "cell_type": "code",
   "execution_count": null,
   "id": "ea1ecd97",
   "metadata": {},
   "outputs": [],
   "source": []
  }
 ],
 "metadata": {
  "kernelspec": {
   "display_name": "Python 3 (ipykernel)",
   "language": "python",
   "name": "python3"
  },
  "language_info": {
   "codemirror_mode": {
    "name": "ipython",
    "version": 3
   },
   "file_extension": ".py",
   "mimetype": "text/x-python",
   "name": "python",
   "nbconvert_exporter": "python",
   "pygments_lexer": "ipython3",
   "version": "3.9.7"
  }
 },
 "nbformat": 4,
 "nbformat_minor": 5
}
